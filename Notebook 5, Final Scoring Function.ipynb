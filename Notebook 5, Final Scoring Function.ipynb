{
 "cells": [
  {
   "cell_type": "markdown",
   "metadata": {},
   "source": [
    "# Final Scoring Function"
   ]
  },
  {
   "cell_type": "code",
   "execution_count": 11,
   "metadata": {},
   "outputs": [],
   "source": [
    "from shingle import *\n",
    "from graph import *\n",
    "import numpy as np"
   ]
  },
  {
   "cell_type": "code",
   "execution_count": 7,
   "metadata": {},
   "outputs": [],
   "source": [
    "portuguese = open('data/portuguese/port.txt', \"r+\")\n",
    "wordlist = {}\n",
    "for line in portuguese:\n",
    "    word = line.rstrip()\n",
    "    wordlist[word] = two_ends(word, 2)"
   ]
  },
  {
   "cell_type": "code",
   "execution_count": 12,
   "metadata": {},
   "outputs": [
    {
     "name": "stdout",
     "output_type": "stream",
     "text": [
      "Average is 9.136666666666667\n"
     ]
    }
   ],
   "source": [
    "train = open('data/portuguese/portuguese_train_mrr.txt', \"r+\")\n",
    "pairs = []\n",
    "for line in train:\n",
    "    word = line.rstrip().split('____')\n",
    "    pairs.append((word[0], word[1]))\n",
    "data = [(p[0], two_ends(p[0],2), p[1]) for p in pairs]\n",
    "avgdl = np.mean([len(s[1]) for s in data])\n",
    "print(\"Average is\", avgdl)"
   ]
  },
  {
   "cell_type": "code",
   "execution_count": 13,
   "metadata": {},
   "outputs": [],
   "source": [
    "port_ro_cog = dict()\n",
    "port_ro_noncog = dict()\n",
    "\n",
    "def init_dict():\n",
    "    cogs = open(\"data/portuguese/graph_cognates_freq.txt\", \"r+\")\n",
    "    for line in cogs:\n",
    "        splits = line.rstrip().split()\n",
    "        port_ro_cog[(splits[1], splits[2])] = int(splits[0])\n",
    "    cogs.close()\n",
    "    noncogs = open(\"data/portuguese/graph_noncognates_freq.txt\", \"r+\")\n",
    "    for line in noncogs:\n",
    "        splits = line.rstrip().split()\n",
    "        port_ro_noncog[(splits[1], splits[2])] = int(splits[0])\n",
    "    noncogs.close()\n",
    "\n",
    "init_dict()"
   ]
  },
  {
   "cell_type": "code",
   "execution_count": 24,
   "metadata": {},
   "outputs": [],
   "source": [
    "def pi(source, target, k = 1.5):\n",
    "    query = two_ends(source, 2) #Your query\n",
    "    document = two_ends(target, 2) #Your document\n",
    "    qd = common_elements(query, document) # q cap d\n",
    "    first = uncommon_elements(query, qd) # q - (q cap d)\n",
    "    second = uncommon_elements(document, qd) # d - (q cap d)\n",
    "    graph = graph_model(first,second)\n",
    "    res = sum([port_ro_cog[i] * k for i in graph]) # sum the frequencies in the dictionary\n",
    "    return res / len(graph)"
   ]
  },
  {
   "cell_type": "code",
   "execution_count": 25,
   "metadata": {},
   "outputs": [
    {
     "data": {
      "text/plain": [
       "1.5"
      ]
     },
     "execution_count": 25,
     "metadata": {},
     "output_type": "execute_result"
    }
   ],
   "source": [
    "pi(\"aspirat\", \"aspirar\")"
   ]
  },
  {
   "cell_type": "code",
   "execution_count": 26,
   "metadata": {},
   "outputs": [],
   "source": [
    "shingles = 470751\n",
    "\n",
    "def smooth(intersection, document, mu):\n",
    "    smooth = []\n",
    "    for word in intersection:\n",
    "        prob = 1.0 + np.divide(document.count(word), mu * frequencies[word] / shingles)\n",
    "        smooth.append(np.log10(prob))\n",
    "    smooth = np.array(smooth)\n",
    "    return smooth\n",
    "\n",
    "def dirichlet(query, document, mu = 100.0):\n",
    "    intersection = [word for word in document if word in query] # intersection\n",
    "    add = len(query) * np.log10(np.divide(mu, mu + len(document)))\n",
    "    score = np.dot(tf(intersection, query), smooth(intersection , document, mu)) + add\n",
    "    return score\n",
    "\n",
    "def tf(intersection, document):\n",
    "    tf = [document.count(word) for word in intersection]\n",
    "    return np.array(tf)"
   ]
  },
  {
   "cell_type": "code",
   "execution_count": 27,
   "metadata": {},
   "outputs": [],
   "source": [
    "# Initialize counts\n",
    "frequencies = {}\n",
    "text = open(\"data/portuguese/two_ends.txt\", \"r+\")\n",
    "for line in text:\n",
    "    word = line.strip().split(' ')\n",
    "    frequencies[word[0]] = float(word[1])   "
   ]
  },
  {
   "cell_type": "code",
   "execution_count": 38,
   "metadata": {},
   "outputs": [],
   "source": [
    "def score(query, document, alpha = 0.5):\n",
    "    return alpha * pi(query, document) + (1.0 - alpha) * dirichlet(two_ends(query, 2), two_ends(document, 2))"
   ]
  },
  {
   "cell_type": "code",
   "execution_count": 39,
   "metadata": {},
   "outputs": [
    {
     "name": "stdout",
     "output_type": "stream",
     "text": [
      "1.5\n",
      "5.1532544571197025\n"
     ]
    }
   ],
   "source": [
    "print(pi(\"aspirat\", \"aspirar\"))\n",
    "print(dirichlet(two_ends(\"aspirat\", 2), two_ends(\"aspirar\", 2)))"
   ]
  },
  {
   "cell_type": "code",
   "execution_count": 40,
   "metadata": {},
   "outputs": [
    {
     "name": "stdout",
     "output_type": "stream",
     "text": [
      "3.3266272285598513\n"
     ]
    }
   ],
   "source": [
    "print(score(\"aspirat\", \"aspirar\"))"
   ]
  },
  {
   "cell_type": "code",
   "execution_count": null,
   "metadata": {},
   "outputs": [],
   "source": []
  }
 ],
 "metadata": {
  "kernelspec": {
   "display_name": "Python 3",
   "language": "python",
   "name": "python3"
  },
  "language_info": {
   "codemirror_mode": {
    "name": "ipython",
    "version": 3
   },
   "file_extension": ".py",
   "mimetype": "text/x-python",
   "name": "python",
   "nbconvert_exporter": "python",
   "pygments_lexer": "ipython3",
   "version": "3.5.2"
  }
 },
 "nbformat": 4,
 "nbformat_minor": 2
}
