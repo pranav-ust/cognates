{
 "cells": [
  {
   "cell_type": "markdown",
   "metadata": {},
   "source": [
    "# Positional Character-based Shingling"
   ]
  },
  {
   "cell_type": "markdown",
   "metadata": {},
   "source": [
    "This notebook details about algorithms discussed in section 2 of the paper, \"Alignment Analysis of Sequential Segmentation of Lexicons to Improve Automatic Cognate Detection\""
   ]
  },
  {
   "cell_type": "markdown",
   "metadata": {},
   "source": [
    "## K-gram shingling"
   ]
  },
  {
   "cell_type": "markdown",
   "metadata": {},
   "source": [
    "A basic concept on shingling. \n",
    "\n",
    "To illustrate, the shingle of the word *rosmarin* is created with $k = 2$ as: $S = \\left\\lbrace \\textit{r, ro, os, sm, ma, ar, ri, in, n} \\right\\rbrace$"
   ]
  },
  {
   "cell_type": "code",
   "execution_count": null,
   "metadata": {},
   "outputs": [],
   "source": [
    "def shingle(input, k):\n",
    "    ''' \n",
    "    Returns the shingle set of the string. \n",
    "    Take input string, and k (length of shingle) as parameters.\n",
    "    '''\n",
    "    k = min(len(input), k)\n",
    "    start_combinations = [input[:i] for i in range(1, k)]\n",
    "    kgrams = [input[i:i + k] for i in range(len(input) - k + 1)]\n",
    "    end_combinations = [input[-i:] for i in range(k - 1, 0, -1)]\n",
    "    return start_combinations + kgrams + end_combinations"
   ]
  },
  {
   "cell_type": "code",
   "execution_count": null,
   "metadata": {},
   "outputs": [],
   "source": [
    "shingle(\"rosmarin\", 2)"
   ]
  },
  {
   "cell_type": "markdown",
   "metadata": {},
   "source": [
    "## Positional Shingling from 2 Ends"
   ]
  },
  {
   "cell_type": "markdown",
   "metadata": {},
   "source": [
    "We attach a position number to the left if the numbering begins from the start, and to the right if the numbering begins from the end.\n",
    "Then the smallest position number is selected between the two position numbers.\n",
    "If the position numbers are equal, then we select the left position number as a convention."
   ]
  },
  {
   "cell_type": "markdown",
   "metadata": {},
   "source": [
    "<img src=\"fig1.png\" alt=\"algorithm\" width=\"400px\"/>"
   ]
  },
  {
   "cell_type": "markdown",
   "metadata": {},
   "source": [
    "The process of positional tokenisation from both ends. On the left, algorithm segments the Romanian word *romarin* into the split-set $\\left\\lbrace \\textit{1r, 2ro, 3om, 4ma, ar4, ri3, in2, n1} \\right\\rbrace$. On the right, the algorithm segments *rosmarin* into $\\left\\lbrace \\textit{1r, 2ro, 3os, 4sm, 5ma, ar4, ri3, in2, n1} \\right\\rbrace$. "
   ]
  },
  {
   "cell_type": "code",
   "execution_count": null,
   "metadata": {},
   "outputs": [],
   "source": [
    "def two_ends(input, k):\n",
    "    ''' \n",
    "    Returns the doubly-ended shingle set of the string. \n",
    "    Take input string, and k (length of shingle) as parameters.\n",
    "    '''\n",
    "    basic = shingle(input, k)\n",
    "    result =[]\n",
    "    for i in range(1, len(basic) + 1):\n",
    "        if i <= (len(input) - i + 2):\n",
    "            result.append(str(i) + basic[i - 1]) # Append numbers from start\n",
    "        else:\n",
    "            result.append(basic[i - 1] + str(len(basic) - i + 1)) # Append numbers from end\n",
    "    return result"
   ]
  },
  {
   "cell_type": "code",
   "execution_count": null,
   "metadata": {},
   "outputs": [],
   "source": [
    "two_ends(\"rosmarin\", 2)"
   ]
  },
  {
   "cell_type": "markdown",
   "metadata": {},
   "source": [
    "## Similarity Checking"
   ]
  },
  {
   "cell_type": "markdown",
   "metadata": {},
   "source": [
    "Finally we implement a Jaccard function to incoporate those functions."
   ]
  },
  {
   "cell_type": "code",
   "execution_count": null,
   "metadata": {},
   "outputs": [],
   "source": [
    "def jaccard(str1, str2, ends = 2, k = 2):\n",
    "    if ends == 2:\n",
    "        set1 = set(two_ends(str1, k))\n",
    "        set2 = set(two_ends(str2, k))\n",
    "    else:\n",
    "        set1 = set(shingle(str1, k))\n",
    "        set2 = set(shingle(str2, k))\n",
    "    numerator = len(set1.intersection(set2))\n",
    "    denominator = len(set1.union(set2))\n",
    "    return numerator / denominator"
   ]
  },
  {
   "cell_type": "code",
   "execution_count": null,
   "metadata": {},
   "outputs": [],
   "source": [
    "print(jaccard(\"apple\", \"appe\"))"
   ]
  }
 ],
 "metadata": {
  "kernelspec": {
   "display_name": "Python 3",
   "language": "python",
   "name": "python3"
  },
  "language_info": {
   "codemirror_mode": {
    "name": "ipython",
    "version": 3
   },
   "file_extension": ".py",
   "mimetype": "text/x-python",
   "name": "python",
   "nbconvert_exporter": "python",
   "pygments_lexer": "ipython3",
   "version": "3.5.2"
  }
 },
 "nbformat": 4,
 "nbformat_minor": 2
}
