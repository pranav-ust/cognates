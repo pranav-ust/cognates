{
 "cells": [
  {
   "cell_type": "markdown",
   "metadata": {},
   "source": [
    "# Positional Character-based Shingling"
   ]
  },
  {
   "cell_type": "markdown",
   "metadata": {},
   "source": [
    "This notebook details about algorithms discussed in section 2 of the paper, \"Alignment Analysis of Sequential Segmentation of Lexicons to Improve Automatic Cognate Detection\""
   ]
  },
  {
   "cell_type": "markdown",
   "metadata": {},
   "source": [
    "## K-gram shingling"
   ]
  },
  {
   "cell_type": "code",
   "execution_count": 2,
   "metadata": {},
   "outputs": [],
   "source": [
    "def shingle(input, k):\n",
    "    k = min(len(input), k)\n",
    "    start_combinations = [input[:i] for i in range(1, k)]\n",
    "    kgrams = [input[i:i + k] for i in range(len(input) - k + 1)]\n",
    "    end_combinations = [input[-i:] for i in range(k - 1, 0, -1)]\n",
    "    return start_combinations + kgrams + end_combinations"
   ]
  },
  {
   "cell_type": "markdown",
   "metadata": {},
   "source": [
    "## Positional Shingling from 2 Ends"
   ]
  },
  {
   "cell_type": "code",
   "execution_count": 9,
   "metadata": {},
   "outputs": [],
   "source": [
    "def one_end(input, k):\n",
    "    basic = shingle(input, k)\n",
    "    result =[]\n",
    "    for i in range(1, len(basic) + 1):\n",
    "        if i <= (len(input) - i + 2):\n",
    "            result.append(str(i) + basic[i - 1]) # Append numbers from start\n",
    "        else:\n",
    "            result.append(basic[i - 1] + str(len(basic) - i + 1)) # Append numbers from end\n",
    "    return result"
   ]
  },
  {
   "cell_type": "markdown",
   "metadata": {},
   "source": [
    "## Similarity Checking"
   ]
  },
  {
   "cell_type": "code",
   "execution_count": 10,
   "metadata": {},
   "outputs": [],
   "source": [
    "def jaccard(str1, str2, ends = 2, k = 2):\n",
    "    if ends == 2:\n",
    "        set1 = set(one_end(str1, k))\n",
    "        set2 = set(one_end(str2, k))\n",
    "    else:\n",
    "        set1 = set(shingle(str1, k))\n",
    "        set2 = set(shingle(str2, k))\n",
    "    numerator = len(set1.intersection(set2))\n",
    "    denominator = len(set1.union(set2))\n",
    "    return numerator / denominator"
   ]
  },
  {
   "cell_type": "code",
   "execution_count": 11,
   "metadata": {},
   "outputs": [
    {
     "name": "stdout",
     "output_type": "stream",
     "text": [
      "0.5714285714285714\n"
     ]
    }
   ],
   "source": [
    "print(jaccard(\"apple\", \"appe\"))"
   ]
  }
 ],
 "metadata": {
  "kernelspec": {
   "display_name": "Python 3",
   "language": "python",
   "name": "python3"
  },
  "language_info": {
   "codemirror_mode": {
    "name": "ipython",
    "version": 3
   },
   "file_extension": ".py",
   "mimetype": "text/x-python",
   "name": "python",
   "nbconvert_exporter": "python",
   "pygments_lexer": "ipython3",
   "version": "3.5.2"
  }
 },
 "nbformat": 4,
 "nbformat_minor": 2
}
