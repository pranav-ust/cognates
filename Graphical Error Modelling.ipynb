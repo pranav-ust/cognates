{
 "cells": [
  {
   "cell_type": "markdown",
   "metadata": {},
   "source": [
    "# Graphical Error Modelling"
   ]
  },
  {
   "cell_type": "markdown",
   "metadata": {},
   "source": [
    "This notebook details about algorithms discussed in section 3 of the paper, \"Alignment Analysis of Sequential Segmentation of Lexicons to Improve Automatic Cognate Detection\""
   ]
  },
  {
   "cell_type": "markdown",
   "metadata": {},
   "source": [
    "## Imports"
   ]
  },
  {
   "cell_type": "code",
   "execution_count": 1,
   "metadata": {},
   "outputs": [],
   "source": [
    "from math import ceil, floor\n",
    "\n",
    "def common_elements(list1, list2):\n",
    "    return [element for element in list1 if element in list2]\n",
    "\n",
    "def uncommon_elements(list1, list2):\n",
    "    return [element for element in list1 if element not in list2]"
   ]
  },
  {
   "cell_type": "code",
   "execution_count": 5,
   "metadata": {},
   "outputs": [],
   "source": [
    "def shingle(input, k):\n",
    "    k = min(len(input), k)\n",
    "    start_combinations = [input[:i] for i in range(1, k)]\n",
    "    kgrams = [input[i:i + k] for i in range(len(input) - k + 1)]\n",
    "    end_combinations = [input[-i:] for i in range(k - 1, 0, -1)]\n",
    "    return start_combinations + kgrams + end_combinations\n",
    "\n",
    "def two_ends(input, k):\n",
    "    basic = shingle(input, k)\n",
    "    result =[]\n",
    "    for i in range(1, len(basic) + 1):\n",
    "        if i <= (len(input) - i + 2):\n",
    "            result.append(str(i) + basic[i - 1]) # Append numbers from start\n",
    "        else:\n",
    "            result.append(basic[i - 1] + str(len(basic) - i + 1)) # Append numbers from end\n",
    "    return result"
   ]
  },
  {
   "cell_type": "markdown",
   "metadata": {},
   "source": [
    "## Graphical Modelling Algorithm"
   ]
  },
  {
   "cell_type": "code",
   "execution_count": 3,
   "metadata": {},
   "outputs": [],
   "source": [
    "def graph_model(first, second):\n",
    "    if len(first) == 0:\n",
    "        first.append(\"nun\") #insert empty token if found empty\n",
    "    if len(second) == 0:\n",
    "        second.append(\"nun\") #insert empty token if found empty\n",
    "    \n",
    "    #While loops to equalize the sizes\n",
    "    while(len(first) < len(second)):\n",
    "        pos = ceil(len(first) / 2)\n",
    "        first.insert(pos, \"nun\")\n",
    "    \n",
    "    #While loops to equalize the sizes\n",
    "    while(len(first) > len(second)):\n",
    "        pos = floor(len(second) / 2)\n",
    "        second.insert(pos, \"nun\")\n",
    "    \n",
    "    #Pairs in tuples\n",
    "    graph = set() #Graph in sets to avoid duplicates\n",
    "    \n",
    "    for i in range(len(first)):\n",
    "        pair = (first[i], second[i]) #One to one mapping with same index\n",
    "        graph.add(pair)\n",
    "    for i in range(len(first) - 1):\n",
    "        pair = (first[i], second[i + 1]) #One to one mapping with an index ahead\n",
    "        graph.add(pair)\n",
    "    if len(first) > 1:\n",
    "        for i in range(1, len(first)):\n",
    "            pair = (first[i], second[i - 1]) #One to one mapping with an index before\n",
    "            graph.add(pair)\n",
    "    return graph"
   ]
  },
  {
   "cell_type": "markdown",
   "metadata": {},
   "source": [
    "## Playing with the functions "
   ]
  },
  {
   "cell_type": "code",
   "execution_count": 7,
   "metadata": {},
   "outputs": [
    {
     "name": "stdout",
     "output_type": "stream",
     "text": [
      "['1p', '2pi', '3iz', '4zz', 'zz4', 'zz3', 'za2', 'a1'] ['1p', '2pi', '3iz', 'zz3', 'za2', 'a1']\n",
      "First and second are ['4zz', 'zz4'] []\n",
      "Graph is  {('4zz', 'nun'), ('zz4', 'nun')}\n"
     ]
    }
   ],
   "source": [
    "q = two_ends(\"pizzzza\", 2) #Your query\n",
    "d = two_ends(\"pizza\", 2) #Your document\n",
    "print(q,d)\n",
    "qd = common_elements(q, d) # q cap d\n",
    "first = uncommon_elements(q, qd) # q - (q cap d)\n",
    "second = uncommon_elements(d, qd) # d - (q cap d)\n",
    "print(\"First and second are\", first, second)\n",
    "print(\"Graph is \", graph_model(first,second))"
   ]
  }
 ],
 "metadata": {
  "kernelspec": {
   "display_name": "Python 3",
   "language": "python",
   "name": "python3"
  },
  "language_info": {
   "codemirror_mode": {
    "name": "ipython",
    "version": 3
   },
   "file_extension": ".py",
   "mimetype": "text/x-python",
   "name": "python",
   "nbconvert_exporter": "python",
   "pygments_lexer": "ipython3",
   "version": "3.5.2"
  }
 },
 "nbformat": 4,
 "nbformat_minor": 2
}
