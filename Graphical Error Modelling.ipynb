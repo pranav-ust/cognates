{
 "cells": [
  {
   "cell_type": "markdown",
   "metadata": {},
   "source": [
    "# Graphical Error Modelling"
   ]
  },
  {
   "cell_type": "markdown",
   "metadata": {},
   "source": [
    "This notebook details about algorithms discussed in section 3 of the paper, \"Alignment Analysis of Sequential Segmentation of Lexicons to Improve Automatic Cognate Detection\""
   ]
  },
  {
   "cell_type": "markdown",
   "metadata": {},
   "source": [
    "## Imports"
   ]
  },
  {
   "cell_type": "markdown",
   "metadata": {},
   "source": [
    "The function `common_elements` will carry out the operation of set intersection and `uncommon_elements` will carry out the operation of set difference."
   ]
  },
  {
   "cell_type": "code",
   "execution_count": 1,
   "metadata": {},
   "outputs": [],
   "source": [
    "from math import ceil, floor\n",
    "\n",
    "def common_elements(list1, list2):\n",
    "    ''' Carries out set intersection '''\n",
    "    return [element for element in list1 if element in list2]\n",
    "\n",
    "def uncommon_elements(list1, list2):\n",
    "    ''' Carries out set difference '''\n",
    "    return [element for element in list1 if element not in list2]"
   ]
  },
  {
   "cell_type": "markdown",
   "metadata": {},
   "source": [
    "We import the functions from the previous notebook which are `shingle` and `two_ends`."
   ]
  },
  {
   "cell_type": "code",
   "execution_count": 5,
   "metadata": {},
   "outputs": [],
   "source": [
    "def shingle(input, k):\n",
    "    ''' Shingles the input into k-grams '''\n",
    "    k = min(len(input), k)\n",
    "    start_combinations = [input[:i] for i in range(1, k)]\n",
    "    kgrams = [input[i:i + k] for i in range(len(input) - k + 1)]\n",
    "    end_combinations = [input[-i:] for i in range(k - 1, 0, -1)]\n",
    "    return start_combinations + kgrams + end_combinations\n",
    "\n",
    "def two_ends(input, k):\n",
    "    ''' Shingles the input into k-grams but encodes numbers from two ends '''\n",
    "    basic = shingle(input, k)\n",
    "    result =[]\n",
    "    for i in range(1, len(basic) + 1):\n",
    "        if i <= (len(input) - i + 2):\n",
    "            result.append(str(i) + basic[i - 1]) # Append numbers from start\n",
    "        else:\n",
    "            result.append(basic[i - 1] + str(len(basic) - i + 1)) # Append numbers from end\n",
    "    return result"
   ]
  },
  {
   "cell_type": "markdown",
   "metadata": {},
   "source": [
    "## Graphical Modelling Algorithm"
   ]
  },
  {
   "cell_type": "markdown",
   "metadata": {},
   "source": [
    "The algorithm consists of three parts:\n",
    "1. Initialization\n",
    "2. Equalization of the set cardinalities\n",
    "3. Inserting the mappings of the set members into the graph\n",
    "\n",
    "This algorithm returns the graphical structure between two shingle sets."
   ]
  },
  {
   "cell_type": "code",
   "execution_count": 3,
   "metadata": {},
   "outputs": [],
   "source": [
    "def graph_model(first, second):\n",
    "    ''' Constructs the graphical structure between two shingle sets. '''\n",
    "    \n",
    "    # Step 1: Initialization\n",
    "    # If the given sets first and second are empty, we initialize \n",
    "    # them by inserting an empty token, (nun), into those sets.\n",
    "    \n",
    "    if len(first) == 0:\n",
    "        first.append(\"nun\") #insert empty token if found empty\n",
    "    if len(second) == 0:\n",
    "        second.append(\"nun\") #insert empty token if found empty\n",
    "        \n",
    "    # Step 2: Equalization of the set cardinalities\n",
    "    # The cardinalities of the sets first and second made\n",
    "    # equal by inserting empty tokens (nun) into the\n",
    "    # middle of the sets.\n",
    "    \n",
    "    # While loops to equalize the sizes\n",
    "    while(len(first) < len(second)):\n",
    "        pos = ceil(len(first) / 2)\n",
    "        first.insert(pos, \"nun\")\n",
    "    \n",
    "    # While loops to equalize the sizes\n",
    "    while(len(first) > len(second)):\n",
    "        pos = floor(len(second) / 2)\n",
    "        second.insert(pos, \"nun\")\n",
    "        \n",
    "    # Step 3: Inserting the mappings of the set members into the graph\n",
    "    # The empty graph is initialized as graph = {}.\n",
    "    # The directed edges are generated, originating from every set member\n",
    "    # of first to every set member of second. This results in a complete \n",
    "    # directed bipartite graph between first and second sets.\n",
    "    \n",
    "    # Pairs in tuples\n",
    "    graph = set() #Graph in sets to avoid duplicates\n",
    "    \n",
    "    for i in range(len(first)):\n",
    "        pair = (first[i], second[i]) # One to one mapping with same index\n",
    "        graph.add(pair)\n",
    "    for i in range(len(first) - 1):\n",
    "        pair = (first[i], second[i + 1]) # One to one mapping with an index ahead\n",
    "        graph.add(pair)\n",
    "    if len(first) > 1:\n",
    "        for i in range(1, len(first)):\n",
    "            pair = (first[i], second[i - 1]) # One to one mapping with an index before\n",
    "            graph.add(pair)\n",
    "    return graph"
   ]
  },
  {
   "cell_type": "markdown",
   "metadata": {},
   "source": [
    "## Playing with the functions "
   ]
  },
  {
   "cell_type": "markdown",
   "metadata": {},
   "source": [
    "Let the source cognate be *mesia* and target cognate be *messia*.\n",
    "\n",
    "Firstly, we will shingle them using `two_ends` function.\n",
    "\n",
    "Using the `common_elements` function, we would find $S \\cap T$.\n",
    "\n",
    "Using the `uncommon_elements` function, we would find $S - (S \\cap T)$, which would form the *top*.\n",
    "\n",
    "Using the `uncommon_elements` function, we would find $T - (S \\cap T)$, which would form the *bottom*.\n",
    "\n",
    "Using the `graph_model` function, the graph would be outputted."
   ]
  },
  {
   "cell_type": "code",
   "execution_count": 9,
   "metadata": {},
   "outputs": [
    {
     "name": "stdout",
     "output_type": "stream",
     "text": [
      "['1m', '2me', '3es', 'si3', 'ia2', 'a1'] ['1m', '2me', '3es', '4ss', 'si3', 'ia2', 'a1']\n",
      "Top and bottom are [] ['4ss']\n",
      "Graph is  {('nun', '4ss')}\n"
     ]
    }
   ],
   "source": [
    "source = two_ends(\"mesia\", 2) # Source cognate\n",
    "target = two_ends(\"messia\", 2) # Target cognate\n",
    "print(source, target)\n",
    "st = common_elements(source, target) # s cap t\n",
    "top = uncommon_elements(source, st) # s - (s cap t)\n",
    "bottom = uncommon_elements(target, st) # t - (s cap t)\n",
    "print(\"Top and bottom are\", top, bottom)\n",
    "print(\"Graph is \", graph_model(top, bottom))"
   ]
  },
  {
   "cell_type": "markdown",
   "metadata": {},
   "source": [
    "We get the graph as `{('nun', '4ss')}`, which means as $\\phi \\rightarrow 4ss$.\n",
    "Intuitively, $\\phi \\rightarrow 4ss$ means that if the letter s is added at position 4 of the word of the source *mesia*, then one could get the target word *messia*."
   ]
  }
 ],
 "metadata": {
  "kernelspec": {
   "display_name": "Python 3",
   "language": "python",
   "name": "python3"
  },
  "language_info": {
   "codemirror_mode": {
    "name": "ipython",
    "version": 3
   },
   "file_extension": ".py",
   "mimetype": "text/x-python",
   "name": "python",
   "nbconvert_exporter": "python",
   "pygments_lexer": "ipython3",
   "version": "3.5.2"
  }
 },
 "nbformat": 4,
 "nbformat_minor": 2
}
