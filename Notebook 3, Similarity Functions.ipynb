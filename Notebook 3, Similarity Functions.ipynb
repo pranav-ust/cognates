{
 "cells": [
  {
   "cell_type": "markdown",
   "metadata": {},
   "source": [
    "# Similarity Functions"
   ]
  },
  {
   "cell_type": "markdown",
   "metadata": {},
   "source": [
    "This notebook describes about the similarity functions that can be used to measure the similarity between two sets.\n",
    "\n",
    "Firstly we import the shingling functions and other helpful functions."
   ]
  },
  {
   "cell_type": "code",
   "execution_count": 1,
   "metadata": {},
   "outputs": [],
   "source": [
    "from shingle import *\n",
    "from math import ceil, floor\n",
    "import numpy as np"
   ]
  },
  {
   "cell_type": "markdown",
   "metadata": {},
   "source": [
    "We will then count how frequent a shingle is in the document. For this I have calculated the frequencies in the document called `data/portuguese/two_ends.txt`. Here we are using portuguese corpus.\n",
    "\n",
    "Then we create a dictionary called `frequencies` which goes like from the word to its frequency."
   ]
  },
  {
   "cell_type": "code",
   "execution_count": 2,
   "metadata": {},
   "outputs": [],
   "source": [
    "# Initialize counts\n",
    "frequencies = {}\n",
    "text = open(\"data/portuguese/two_ends.txt\", \"r+\")\n",
    "for line in text:\n",
    "    word = line.strip().split(' ')\n",
    "    frequencies[word[0]] = float(word[1])   "
   ]
  },
  {
   "cell_type": "markdown",
   "metadata": {},
   "source": [
    "## TF - IDF"
   ]
  },
  {
   "cell_type": "markdown",
   "metadata": {},
   "source": [
    "TF-IDF (Term-frequency and Inverse Document Frequency) measures similarity using this:\n",
    "$$\n",
    "tfidf(q, d) = \\sum_{t \\in q \\cap d} f_{t, q} \\cdot \\log \\frac{N + 1}{df_{t, d} + 0.5}\n",
    "$$\n",
    "\n",
    "Firstly, we define `tf` using this, which is just the frequency counts in the intersection."
   ]
  },
  {
   "cell_type": "code",
   "execution_count": 1,
   "metadata": {},
   "outputs": [],
   "source": [
    "def tf(intersection, query):\n",
    "    '''Counts term frequency'''\n",
    "    tf = [query.count(word) for word in intersection]\n",
    "    return np.array(tf)"
   ]
  },
  {
   "cell_type": "markdown",
   "metadata": {},
   "source": [
    "Afterwards, we compute `idf`, which is inverse document frequency. Here we will make use of the dictionary that we created earlier in order to compute document frequencies."
   ]
  },
  {
   "cell_type": "code",
   "execution_count": 2,
   "metadata": {},
   "outputs": [],
   "source": [
    "def idf(intersection, document, N):\n",
    "    '''Counts inverse document frequency'''\n",
    "    idf = np.array([frequencies[word] for word in intersection])\n",
    "    idf = np.log10(np.divide(N + 1, idf + 0.5))\n",
    "    return idf"
   ]
  },
  {
   "cell_type": "markdown",
   "metadata": {},
   "source": [
    "Finally we simulate the function `tf_idf` which takes the dot product of `tf` and `idf` arrays."
   ]
  },
  {
   "cell_type": "code",
   "execution_count": 3,
   "metadata": {},
   "outputs": [],
   "source": [
    "def tf_idf(query, document, N):\n",
    "    intersection = [word for word in document if word in query] # intersection\n",
    "    score = np.dot(tf(intersection, query), idf(intersection, document, N))\n",
    "    return score"
   ]
  },
  {
   "cell_type": "code",
   "execution_count": 11,
   "metadata": {},
   "outputs": [
    {
     "data": {
      "text/plain": [
       "13.615376041936951"
      ]
     },
     "execution_count": 11,
     "metadata": {},
     "output_type": "execute_result"
    }
   ],
   "source": [
    "query = two_ends(\"pizza\", 2)\n",
    "document = two_ends(\"pizza\", 2)\n",
    "tf_idf(query, document, 50000)"
   ]
  },
  {
   "cell_type": "markdown",
   "metadata": {},
   "source": [
    "## BM25"
   ]
  },
  {
   "cell_type": "markdown",
   "metadata": {},
   "source": [
    "\n",
    "$$\n",
    "BM25(q,d) = \\sum_{t \\in q, d} \\frac{f_{t, q} \\cdot (k1 + 1.0)}{f_{t, q} + k1 \\cdot (1.0 - b + b \\frac{|q|}{avgdl})} \\cdot IDF(t, d)\n",
    "$$"
   ]
  },
  {
   "cell_type": "code",
   "execution_count": 18,
   "metadata": {},
   "outputs": [],
   "source": [
    "def bm25_tf(intersection, query, document, k1, b, avgdl, N):\n",
    "    tf_ = tf(intersection, document)\n",
    "    numerator = tf_ * (k1 + 1.0)\n",
    "    denominator = tf_ + k1 * (1.0 - b + b * (len(query) / avgdl))\n",
    "    bm25_tf = np.divide(numerator, denominator)\n",
    "    return bm25_tf"
   ]
  },
  {
   "cell_type": "code",
   "execution_count": 19,
   "metadata": {},
   "outputs": [],
   "source": [
    "def bm25(query, document, k1 = 1.2, b = 0.75, avgdl = 8.3, N = 50000):\n",
    "    intersection = [word for word in document if word in query] # intersection\n",
    "    score = np.dot(bm25_tf(intersection, query, document, k1, b, avgdl, N), idf(intersection, document, N))\n",
    "    return score"
   ]
  },
  {
   "cell_type": "code",
   "execution_count": 24,
   "metadata": {},
   "outputs": [
    {
     "data": {
      "text/plain": [
       "15.356193114624382"
      ]
     },
     "execution_count": 24,
     "metadata": {},
     "output_type": "execute_result"
    }
   ],
   "source": [
    "query = two_ends(\"pizza\", 2)\n",
    "document = two_ends(\"pizza\", 2)\n",
    "bm25(query, document)"
   ]
  },
  {
   "cell_type": "markdown",
   "metadata": {},
   "source": [
    "## Dirichlet"
   ]
  },
  {
   "cell_type": "markdown",
   "metadata": {},
   "source": [
    "$$\n",
    "Dir(q, d) = \\sum_{t \\in q, d} c(t, q) \\log \\Bigg(1 + \\frac{c(t, d)}{\\mu \\cdot p(t | C)}\\Bigg) + |q| \\log \\frac{\\mu}{\\mu + |d|}\n",
    "$$"
   ]
  },
  {
   "cell_type": "code",
   "execution_count": 32,
   "metadata": {},
   "outputs": [],
   "source": [
    "shingles = 470751\n",
    "def smooth(intersection, document, mu):\n",
    "    smooth = []\n",
    "    for word in intersection:\n",
    "        prob = 1.0 + np.divide(document.count(word), mu * frequencies[word] / shingles)\n",
    "        smooth.append(np.log10(prob))\n",
    "    smooth = np.array(smooth)\n",
    "    return smooth"
   ]
  },
  {
   "cell_type": "code",
   "execution_count": 40,
   "metadata": {},
   "outputs": [],
   "source": [
    "def dirichlet(query, document, mu = 100.0):\n",
    "    intersection = [word for word in document if word in query] # intersection\n",
    "    add = len(query) * np.log10(np.divide(mu, mu + len(document)))\n",
    "    score = np.dot(tf(intersection, query), smooth(intersection , document, mu)) + add\n",
    "    return score"
   ]
  },
  {
   "cell_type": "code",
   "execution_count": 41,
   "metadata": {},
   "outputs": [
    {
     "name": "stdout",
     "output_type": "stream",
     "text": [
      "11.15631567880404\n"
     ]
    }
   ],
   "source": [
    "query = two_ends(\"pizzzza\", 2)\n",
    "document = two_ends(\"pizzza\", 2)\n",
    "print(dirichlet(query, document))"
   ]
  }
 ],
 "metadata": {
  "kernelspec": {
   "display_name": "Python 3",
   "language": "python",
   "name": "python3"
  },
  "language_info": {
   "codemirror_mode": {
    "name": "ipython",
    "version": 3
   },
   "file_extension": ".py",
   "mimetype": "text/x-python",
   "name": "python",
   "nbconvert_exporter": "python",
   "pygments_lexer": "ipython3",
   "version": "3.5.2"
  }
 },
 "nbformat": 4,
 "nbformat_minor": 2
}
